{
 "cells": [
  {
   "cell_type": "markdown",
   "metadata": {
    "deletable": true,
    "editable": true
   },
   "source": [
    "# Social Network Analysis with Python"
   ]
  },
  {
   "cell_type": "markdown",
   "metadata": {
    "deletable": true,
    "editable": true
   },
   "source": [
    "***"
   ]
  },
  {
   "cell_type": "markdown",
   "metadata": {
    "deletable": true,
    "editable": true
   },
   "source": [
    "<p style=\"margin-top:1em;margin-bottom:1em;margin-right:1em;margin-left:1em;background-color:#F9F9F9;font-family:'Source Sans Pro','Helvetica Neue',Arial,sans-serif;color:#34495e;padding-top:1em;padding-bottom:1em;padding-right:1em;padding-left:2em;border-left-width:4px;border-left-style:solid;border-left-color:#DDD;box-shadow:0 1px 1px rgba(0, 0, 0, 0.125);border-color:#0074D9;\" ><b>Note:</b> Please make sure this ipynb (or html) file is in the same directory as the 'svg' folder for network visualisations to appear.<p></p>"
   ]
  },
  {
   "cell_type": "markdown",
   "metadata": {
    "deletable": true,
    "editable": true
   },
   "source": [
    "***"
   ]
  },
  {
   "cell_type": "markdown",
   "metadata": {
    "deletable": true,
    "editable": true
   },
   "source": [
    "## Objectives of this lab:\n",
    "- Data wrangling with Python\n",
    "- Formatting Data for SNA\n",
    "- SNA with networkx (micro, macro level metrics)\n",
    "- Network visualization"
   ]
  },
  {
   "cell_type": "markdown",
   "metadata": {
    "deletable": true,
    "editable": true
   },
   "source": [
    "## 1. Preparing Data "
   ]
  },
  {
   "cell_type": "markdown",
   "metadata": {
    "deletable": true,
    "editable": true
   },
   "source": [
    "The first step is getting our Social Network data. For the purpose of this lab we will use the Enron Database. This dataset was collected and prepared by the CALO Project (A Cognitive Assistant that Learns and Organizes). It contains data from about 150 users, mostly senior management of Enron, organized into folders. The corpus contains a total of about 0.5M messages. This data was originally made public, and posted to the web, by the Federal Energy Regulatory Commission during its investigation.\n",
    "\n",
    "As part of their inquiries, The Federal Energy Regulatory Commission used an extensive collection of emails from Enron employees. The Enron corpus is one of the only publicly available collections of emails available for research. This dataset also provides a fascinating playground for citizen data scientists.\n",
    "\n",
    "\n",
    "You can download the Database from the following link: http://www.cs.cmu.edu/~enron/\n",
    "\n",
    "\n",
    "The Original Enron Dataset contains a set of folders that organizes a collection of mailboxes by person and folder. Data wrangling is a routine problem, and this section should give you some perspective and some appreciation for it.\n",
    "\n"
   ]
  },
  {
   "cell_type": "markdown",
   "metadata": {
    "deletable": true,
    "editable": true
   },
   "source": [
    "### Getting all the emails"
   ]
  },
  {
   "cell_type": "markdown",
   "metadata": {
    "deletable": true,
    "editable": true
   },
   "source": [
    "The main folder is maildir, which holds all the personal accounts. Our first task is to load the required libraries and create a list of available emails. \n",
    "\n",
    "You will need to get all files in the inboxes of users. To do that, you need to iterate on all subdirectories 'inbox' within the maildir folder. It is useful to store the path of the files in a data structure before starting to read each file. \n",
    "\n",
    "The choice of the inboxes garantees retrieving all possible exchanges, including multi destination emails   "
   ]
  },
  {
   "cell_type": "code",
   "execution_count": 3,
   "metadata": {
    "collapsed": true,
    "deletable": true,
    "editable": true
   },
   "outputs": [],
   "source": [
    "# Import needed libraries\n",
    "import networkx as nx\n",
    "import pandas as pd\n",
    "import matplotlib.pyplot as plt\n",
    "from pathlib import Path\n",
    "import random, re, textwrap\n",
    "from time import sleep\n",
    "from functools import wraps\n",
    "import seaborn as sns\n",
    "import nxviz as nv\n",
    "import community\n",
    "from collections import Counter\n",
    "from IPython.display import display, HTML, SVG"
   ]
  },
  {
   "cell_type": "code",
   "execution_count": 5,
   "metadata": {
    "collapsed": true,
    "deletable": true,
    "editable": true,
    "scrolled": false
   },
   "outputs": [],
   "source": [
    "# Get paths to all subdirectories 'inbox'\n",
    "def get_paths(data_dir, has_sent):\n",
    "    paths = []\n",
    "    for d in (d for d in data_dir.iterdir() if d.is_dir()):\n",
    "        if (d / 'inbox').is_dir() and ((d / 'sent').is_dir() or not has_sent):\n",
    "            for f in (f for f in (d / 'inbox').iterdir() if f.is_file()):\n",
    "                paths.append(str(f))\n",
    "    print(len(paths), \"file found.\")\n",
    "    return paths"
   ]
  },
  {
   "cell_type": "code",
   "execution_count": 6,
   "metadata": {
    "collapsed": false,
    "deletable": true,
    "editable": true
   },
   "outputs": [
    {
     "name": "stdout",
     "output_type": "stream",
     "text": [
      "41509 file found.\n"
     ]
    }
   ],
   "source": [
    "# Dataset directory\n",
    "data_dir = Path(\"maildir\")\n",
    "\n",
    "# Get the list of paths of all emails in the 'inbox' folders: list of str\n",
    "paths = get_paths(data_dir, False)"
   ]
  },
  {
   "cell_type": "code",
   "execution_count": 7,
   "metadata": {
    "collapsed": false,
    "deletable": true,
    "editable": true
   },
   "outputs": [
    {
     "name": "stdout",
     "output_type": "stream",
     "text": [
      "size: 41509\n",
      "10 random results:\n",
      "12976th path:\tmaildir\\hendrickson-s\\inbox\\62\n",
      "41143th path:\tmaildir\\ybarbo-p\\inbox\\593\n",
      "5789th path:\tmaildir\\crandell-s\\inbox\\38\n",
      "17623th path:\tmaildir\\lay-k\\inbox\\1713\n",
      "39368th path:\tmaildir\\white-s\\inbox\\45\n",
      "7669th path:\tmaildir\\dean-c\\inbox\\315\n",
      "674th path:\tmaildir\\baughman-d\\inbox\\164\n",
      "8016th path:\tmaildir\\dean-c\\inbox\\636\n",
      "8037th path:\tmaildir\\dean-c\\inbox\\660\n",
      "29994th path:\tmaildir\\salisbury-h\\inbox\\3\n"
     ]
    }
   ],
   "source": [
    "# Verification\n",
    "print(\"size:\", len(paths))\n",
    "print(\"10 random results:\")\n",
    "for i in range(10):\n",
    "    i = random.randrange(0, len(paths) - 1)\n",
    "    print(i, \"th path:\\t\", paths[i], sep = \"\")"
   ]
  },
  {
   "cell_type": "markdown",
   "metadata": {
    "deletable": true,
    "editable": true
   },
   "source": [
    "We are only interested by Employees who have sent at least one email (i.e. have a subdirectory 'sent'). "
   ]
  },
  {
   "cell_type": "code",
   "execution_count": 8,
   "metadata": {
    "collapsed": false,
    "deletable": true,
    "editable": true
   },
   "outputs": [
    {
     "name": "stdout",
     "output_type": "stream",
     "text": [
      "28987 file found.\n"
     ]
    }
   ],
   "source": [
    "# Get the list of paths of all emails in the 'inbox' folders\n",
    "# of employees with 'sent' folder: list of str\n",
    "paths = get_paths(data_dir, True)"
   ]
  },
  {
   "cell_type": "code",
   "execution_count": 9,
   "metadata": {
    "collapsed": false,
    "deletable": true,
    "editable": true
   },
   "outputs": [
    {
     "name": "stdout",
     "output_type": "stream",
     "text": [
      "size: 28987\n",
      "10 random results:\n",
      "12309th path:\tmaildir\\jones-t\\inbox\\812\n",
      "13852th path:\tmaildir\\lavorato-j\\inbox\\245\n",
      "13625th path:\tmaildir\\keavey-p\\inbox\\560\n",
      "23802th path:\tmaildir\\shively-h\\inbox\\18\n",
      "2739th path:\tmaildir\\buy-r\\inbox\\869\n",
      "5422th path:\tmaildir\\dasovich-j\\inbox\\367\n",
      "1083th path:\tmaildir\\beck-s\\inbox\\545\n",
      "8972th path:\tmaildir\\giron-d\\inbox\\199\n",
      "7768th path:\tmaildir\\donohoe-t\\inbox\\445\n",
      "12116th path:\tmaildir\\jones-t\\inbox\\547\n"
     ]
    }
   ],
   "source": [
    "# Verification\n",
    "print(\"size:\", len(paths))\n",
    "print(\"10 random results:\")\n",
    "\n",
    "for i in range(10):\n",
    "    i = random.randrange(0, len(paths) - 1)\n",
    "    print(i, \"th path:\\t\", paths[i], sep = \"\")"
   ]
  },
  {
   "cell_type": "markdown",
   "metadata": {
    "deletable": true,
    "editable": true
   },
   "source": [
    "Make sure to clean your data from any System file etc. Then read the files within the subdirectories. Beware of encoding problems."
   ]
  },
  {
   "cell_type": "code",
   "execution_count": 10,
   "metadata": {
    "collapsed": false,
    "deletable": true,
    "editable": true
   },
   "outputs": [],
   "source": [
    "# Read all the emails into a dictionary or a data structure of your choice\n",
    "# You can use the path or username as key and the content of the email as value.\n",
    "\n",
    "# decorator to display a progress bar\n",
    "def progressBar(func):\n",
    "    @wraps(func)\n",
    "    def wrapper(*args, **kwargs):\n",
    "        print('|0%|', '_' * 50,'|100%|',sep=\"\", end=\"\\n|  |\")\n",
    "        res = func(*args, **kwargs)\n",
    "        print(\"|done|\")\n",
    "        return res\n",
    "    return wrapper\n",
    "\n",
    "# get emails\n",
    "@progressBar\n",
    "def get_emails_contents(paths):\n",
    "    \n",
    "    # data dictionary: {'path/to/email':'email content'}\n",
    "    data = {}\n",
    "    \n",
    "    # for displaying progress\n",
    "    step = set(map(lambda x: int(round(x * len(paths) / 50)) - 1, range(1, 51)))\n",
    "    advance = lambda x: print(\"#\", end=\"\") if x in step else None\n",
    "    \n",
    "    # loop over paths\n",
    "    for ind, path in enumerate(paths):\n",
    "        \n",
    "        # open file and add its content to dictionary\n",
    "        with open(path, 'r') as current_file:\n",
    "            data[path] = current_file.read()\n",
    "\n",
    "        # progress\n",
    "        advance(ind)\n",
    "        \n",
    "    return data"
   ]
  },
  {
   "cell_type": "code",
   "execution_count": 11,
   "metadata": {
    "collapsed": false,
    "deletable": true,
    "editable": true
   },
   "outputs": [
    {
     "name": "stdout",
     "output_type": "stream",
     "text": [
      "|0%|__________________________________________________|100%|\n",
      "|  |##################################################|done|\n"
     ]
    }
   ],
   "source": [
    "emails_contents = get_emails_contents(paths)"
   ]
  },
  {
   "cell_type": "code",
   "execution_count": 12,
   "metadata": {
    "collapsed": false,
    "deletable": true,
    "editable": true
   },
   "outputs": [
    {
     "name": "stdout",
     "output_type": "stream",
     "text": [
      "path:\n",
      "\t maildir\\taylor-m\\inbox\\129\n",
      "content (six first lines):\n",
      " \tMessage-ID: <26370229.1075858614627.JavaMail.evans@thyme>\n",
      "\tDate: Tue, 9 Oct 2001 06:08:12 -0700 (PDT)\n",
      "\tFrom: sara.shackleton@enron.com\n",
      "\tTo: legal <.taylor@enron.com>, c..koehler@enron.com\n",
      "\tSubject: RE: The Chase Manhattan Bank - EOL\n",
      "\tMime-Version: 1.0\n"
     ]
    }
   ],
   "source": [
    "#verification\n",
    "# read few first lines from random file:\n",
    "i = random.randrange(0, len(paths) - 1)\n",
    "print(\"path:\\n\\t\", paths[i])\n",
    "print(\"content (six first lines):\\n\", textwrap.indent('\\n'.join(emails_contents[paths[i]].split('\\n')[:6]), prefix=\"\\t\"))"
   ]
  },
  {
   "cell_type": "markdown",
   "metadata": {
    "deletable": true,
    "editable": true
   },
   "source": [
    "### Getting Employees username/emails"
   ]
  },
  {
   "cell_type": "markdown",
   "metadata": {
    "deletable": true,
    "editable": true
   },
   "source": [
    "We'd also like to get a list of Employees' username (name on the folders) and their emails. Clean your data accordingly. \n",
    "\n",
    "Note: You will need to access the first file from each subdirectory 'sent' in order to retrieve the email of an Employee. We use the 'sent' subdirectory because an email can have only one sender but multiple recipients.\n",
    "\n",
    "You can use Regular Expressions to retrieve the emails from the files."
   ]
  },
  {
   "cell_type": "code",
   "execution_count": 13,
   "metadata": {
    "collapsed": true,
    "deletable": true,
    "editable": true
   },
   "outputs": [],
   "source": [
    "# Get a list of usernames / emails from Sent emails\n",
    "def get_usernames(data_dir):\n",
    "    return[d.name for d in data_dir.iterdir() if (d / 'inbox').is_dir() and (d / 'sent').is_dir()]\n",
    "\n",
    "def pattern_match(email):\n",
    "    pattern = re.compile('From:\\s[\\w\\.\\']+@enron\\.com')\n",
    "    return pattern.findall(email)[0][6:]\n",
    "\n",
    "def get_emails(data_dir, usernames):\n",
    "    email = None\n",
    "    emails = {}\n",
    "    for d in (data_dir / u for u in usernames):\n",
    "        with open(d / 'sent' / '1', 'r') as first_file:\n",
    "            emails[d.name] = pattern_match(first_file.read())\n",
    "    return emails"
   ]
  },
  {
   "cell_type": "code",
   "execution_count": 14,
   "metadata": {
    "collapsed": false,
    "deletable": true,
    "editable": true
   },
   "outputs": [
    {
     "name": "stdout",
     "output_type": "stream",
     "text": [
      "number of usernames: 81\n",
      "number of emails: 81\n"
     ]
    }
   ],
   "source": [
    "usernames = get_usernames(data_dir)\n",
    "emails = get_emails(data_dir, usernames)\n",
    "\n",
    "print(\"number of usernames:\", len(usernames))\n",
    "print(\"number of emails:\", len(emails))"
   ]
  },
  {
   "cell_type": "code",
   "execution_count": 15,
   "metadata": {
    "collapsed": false,
    "deletable": true,
    "editable": true
   },
   "outputs": [
    {
     "data": {
      "text/html": [
       "<div>\n",
       "<style scoped>\n",
       "    .dataframe tbody tr th:only-of-type {\n",
       "        vertical-align: middle;\n",
       "    }\n",
       "\n",
       "    .dataframe tbody tr th {\n",
       "        vertical-align: top;\n",
       "    }\n",
       "\n",
       "    .dataframe thead th {\n",
       "        text-align: right;\n",
       "    }\n",
       "</style>\n",
       "<table border=\"1\" class=\"dataframe\">\n",
       "  <thead>\n",
       "    <tr style=\"text-align: right;\">\n",
       "      <th></th>\n",
       "      <th>number</th>\n",
       "      <th>username</th>\n",
       "      <th>email</th>\n",
       "    </tr>\n",
       "  </thead>\n",
       "  <tbody>\n",
       "    <tr>\n",
       "      <th>0</th>\n",
       "      <td>47</td>\n",
       "      <td>may-l</td>\n",
       "      <td>larry.may@enron.com</td>\n",
       "    </tr>\n",
       "    <tr>\n",
       "      <th>1</th>\n",
       "      <td>41</td>\n",
       "      <td>lewis-a</td>\n",
       "      <td>andrew.lewis@enron.com</td>\n",
       "    </tr>\n",
       "    <tr>\n",
       "      <th>2</th>\n",
       "      <td>70</td>\n",
       "      <td>sturm-f</td>\n",
       "      <td>fletcher.sturm@enron.com</td>\n",
       "    </tr>\n",
       "    <tr>\n",
       "      <th>3</th>\n",
       "      <td>46</td>\n",
       "      <td>martin-t</td>\n",
       "      <td>laura.vuittonet@enron.com</td>\n",
       "    </tr>\n",
       "    <tr>\n",
       "      <th>4</th>\n",
       "      <td>54</td>\n",
       "      <td>pereira-s</td>\n",
       "      <td>susan.pereira@enron.com</td>\n",
       "    </tr>\n",
       "    <tr>\n",
       "      <th>5</th>\n",
       "      <td>60</td>\n",
       "      <td>ruscitti-k</td>\n",
       "      <td>kevin.ruscitti@enron.com</td>\n",
       "    </tr>\n",
       "    <tr>\n",
       "      <th>6</th>\n",
       "      <td>63</td>\n",
       "      <td>scott-s</td>\n",
       "      <td>susan.scott@enron.com</td>\n",
       "    </tr>\n",
       "    <tr>\n",
       "      <th>7</th>\n",
       "      <td>24</td>\n",
       "      <td>giron-d</td>\n",
       "      <td>darron.giron@enron.com</td>\n",
       "    </tr>\n",
       "    <tr>\n",
       "      <th>8</th>\n",
       "      <td>67</td>\n",
       "      <td>shively-h</td>\n",
       "      <td>hunter.shively@enron.com</td>\n",
       "    </tr>\n",
       "    <tr>\n",
       "      <th>9</th>\n",
       "      <td>61</td>\n",
       "      <td>sager-e</td>\n",
       "      <td>elizabeth.sager@enron.com</td>\n",
       "    </tr>\n",
       "  </tbody>\n",
       "</table>\n",
       "</div>"
      ],
      "text/plain": [
       "   number    username                      email\n",
       "0      47       may-l        larry.may@enron.com\n",
       "1      41     lewis-a     andrew.lewis@enron.com\n",
       "2      70     sturm-f   fletcher.sturm@enron.com\n",
       "3      46    martin-t  laura.vuittonet@enron.com\n",
       "4      54   pereira-s    susan.pereira@enron.com\n",
       "5      60  ruscitti-k   kevin.ruscitti@enron.com\n",
       "6      63     scott-s      susan.scott@enron.com\n",
       "7      24     giron-d     darron.giron@enron.com\n",
       "8      67   shively-h   hunter.shively@enron.com\n",
       "9      61     sager-e  elizabeth.sager@enron.com"
      ]
     },
     "execution_count": 15,
     "metadata": {},
     "output_type": "execute_result"
    }
   ],
   "source": [
    "# print 10 random usernames and their emails\n",
    "randselect = []\n",
    "for i in range(10):\n",
    "    i = random.randrange(0, len(usernames) - 1)\n",
    "    randselect.append([i, usernames[i], emails[usernames[i]]])\n",
    "randselect = pd.DataFrame(randselect, columns=['number', 'username', 'email'])\n",
    "display(randselect)"
   ]
  },
  {
   "cell_type": "markdown",
   "metadata": {
    "deletable": true,
    "editable": true
   },
   "source": [
    "The idea here is that, instead of having paths or usernames in your data structure containing the received emails, we will have emails.\n",
    "\n",
    "You need to transform your data structure using the usernames/emails list you just created, and don't forget to clean your emails in order to only keep strings before the '@' character"
   ]
  },
  {
   "cell_type": "code",
   "execution_count": 16,
   "metadata": {
    "collapsed": false,
    "deletable": true,
    "editable": true
   },
   "outputs": [],
   "source": [
    "# Transform data structure to have emails rather than usernames or paths\n",
    "def update_keys(emails_contents, emails):\n",
    "    keys = list(emails_contents.keys())\n",
    "    new_key = None\n",
    "    for key in keys:\n",
    "        new_key = emails[Path(key).parts[1]].split(\"@\")[0] + ' ' + Path(key).name\n",
    "        emails_contents[new_key] = emails_contents.pop(key)"
   ]
  },
  {
   "cell_type": "code",
   "execution_count": 17,
   "metadata": {
    "collapsed": false,
    "deletable": true,
    "editable": true
   },
   "outputs": [],
   "source": [
    "# emails_backup = emails_contents.copy()\n",
    "update_keys(emails_contents, emails)"
   ]
  },
  {
   "cell_type": "code",
   "execution_count": 18,
   "metadata": {
    "collapsed": false,
    "deletable": true,
    "editable": true
   },
   "outputs": [
    {
     "name": "stdout",
     "output_type": "stream",
     "text": [
      "email+index:\n",
      "\t clint.dean 868\n",
      "content:\n",
      " \tMessage-ID: <5135889.1075852158508.JavaMail.evans@thyme>\n",
      "\tDate: Tue, 9 Oct 2001 08:06:52 -0700 (PDT)\n",
      "\tFrom: julie.kearney@enron.com\n",
      "\tTo: center.dl-portland@enron.com\n",
      "\tSubject: Josie Jarnagin\n",
      "\tMime-Version: 1.0\n"
     ]
    }
   ],
   "source": [
    "# read first lines of random file:\n",
    "i = random.randrange(0, len(paths) - 1)\n",
    "random_key = list(emails_contents.keys())[i]\n",
    "print(\"email+index:\\n\\t\", random_key)\n",
    "print(\"content:\\n\", textwrap.indent('\\n'.join(emails_contents[random_key].split('\\n')[:6]), prefix=\"\\t\"))"
   ]
  },
  {
   "cell_type": "markdown",
   "metadata": {
    "deletable": true,
    "editable": true
   },
   "source": [
    "### Getting Sender and Receiver information"
   ]
  },
  {
   "cell_type": "markdown",
   "metadata": {
    "deletable": true,
    "editable": true
   },
   "source": [
    "At this point you have:\n",
    "- A Data structure containing the email of the destination ('to') and the content of the email\n",
    "- A list of all usernames / emails\n",
    "\n",
    "We now need to create a pands Dataframe (input for our network Analysis) that contains emails of a sender and receiver of every email in your data structure. \n",
    "\n",
    "The Dataframe will be created using a list of [sender, receiver].\n",
    "\n",
    "Note: don't forget to clean your emails in order to only keep strings before the '@' character"
   ]
  },
  {
   "cell_type": "code",
   "execution_count": 19,
   "metadata": {
    "collapsed": true,
    "deletable": true,
    "editable": true
   },
   "outputs": [],
   "source": [
    "# Create a list of [sender, receiver]\n",
    "# Use Regex to extract the email of the Sender of each email ('From')\n",
    "'''\n",
    "Since we are only interested in Enron employees, we will filter out adresses from different domains\n",
    "To avoid any complications dealing with external adresses, we will replace them with numpy.nan\n",
    "We will remove them later when we create our Pandas DataFrame using the methode dropna()\n",
    "'''\n",
    "from numpy import nan\n",
    "\n",
    "def pattern_match2(email):\n",
    "    # pattern = re.compile('From:\\s[\\w\\.\\'\\-\\<\\> ]+@[\\w\\.\\'-]+')\n",
    "    # we'll extract enron only emails\n",
    "    pattern = re.compile('From:\\s[\\w\\.\\']+@enron\\.com')\n",
    "    try:\n",
    "        res = pattern.findall(email)[0][6:]\n",
    "    except IndexError:\n",
    "        res = \"NA\"\n",
    "    return res\n",
    "\n",
    "@progressBar\n",
    "def get_sender_receiver(emails_contents):\n",
    "    \n",
    "    sender_receiver_list = []\n",
    "    sender_email = receiver_email = ''\n",
    "    \n",
    "    step = set(map(lambda x: int(round(x * len(emails_contents) / 50)) - 1, range(1, 51)))\n",
    "    advance = lambda x: print(\"#\", end=\"\") if x in step else None\n",
    "    \n",
    "    for ind, key in enumerate(emails_contents):\n",
    "        receiver_email = key.split(\" \")[0]\n",
    "        sender_email = pattern_match2(emails_contents[key])\n",
    "        if sender_email != \"NA\":\n",
    "            sender_email = pattern_match2(emails_contents[key]).split(\"@\")[0]\n",
    "            sender_email = sender_email.translate(str.maketrans({ord(ch):None for ch in ' <>'})) # review\n",
    "        else:\n",
    "            sender_email = nan\n",
    "        sender_receiver_list.append([sender_email, receiver_email])\n",
    "        \n",
    "        advance(ind)\n",
    "        \n",
    "    return sender_receiver_list"
   ]
  },
  {
   "cell_type": "code",
   "execution_count": 20,
   "metadata": {
    "collapsed": false,
    "deletable": true,
    "editable": true
   },
   "outputs": [
    {
     "name": "stdout",
     "output_type": "stream",
     "text": [
      "|0%|__________________________________________________|100%|\n",
      "|  |##################################################|done|\n"
     ]
    }
   ],
   "source": [
    "sender_receiver_list = get_sender_receiver(emails_contents)"
   ]
  },
  {
   "cell_type": "markdown",
   "metadata": {
    "deletable": true,
    "editable": true
   },
   "source": [
    "### Creating your Dataframe"
   ]
  },
  {
   "cell_type": "markdown",
   "metadata": {
    "deletable": true,
    "editable": true
   },
   "source": [
    "Once you have your list, create a pandas Dataframe with two columns 'from' and 'to'."
   ]
  },
  {
   "cell_type": "code",
   "execution_count": 106,
   "metadata": {
    "collapsed": false,
    "deletable": true,
    "editable": true
   },
   "outputs": [
    {
     "data": {
      "text/html": [
       "<div>\n",
       "<style scoped>\n",
       "    .dataframe tbody tr th:only-of-type {\n",
       "        vertical-align: middle;\n",
       "    }\n",
       "\n",
       "    .dataframe tbody tr th {\n",
       "        vertical-align: top;\n",
       "    }\n",
       "\n",
       "    .dataframe thead th {\n",
       "        text-align: right;\n",
       "    }\n",
       "</style>\n",
       "<table border=\"1\" class=\"dataframe\">\n",
       "  <thead>\n",
       "    <tr style=\"text-align: right;\">\n",
       "      <th></th>\n",
       "      <th>From</th>\n",
       "      <th>To</th>\n",
       "    </tr>\n",
       "  </thead>\n",
       "  <tbody>\n",
       "    <tr>\n",
       "      <th>0</th>\n",
       "      <td>heather.dunton</td>\n",
       "      <td>phillip.allen</td>\n",
       "    </tr>\n",
       "    <tr>\n",
       "      <th>1</th>\n",
       "      <td>NaN</td>\n",
       "      <td>phillip.allen</td>\n",
       "    </tr>\n",
       "    <tr>\n",
       "      <th>2</th>\n",
       "      <td>NaN</td>\n",
       "      <td>phillip.allen</td>\n",
       "    </tr>\n",
       "    <tr>\n",
       "      <th>3</th>\n",
       "      <td>NaN</td>\n",
       "      <td>phillip.allen</td>\n",
       "    </tr>\n",
       "    <tr>\n",
       "      <th>4</th>\n",
       "      <td>louise.kitchen</td>\n",
       "      <td>phillip.allen</td>\n",
       "    </tr>\n",
       "    <tr>\n",
       "      <th>5</th>\n",
       "      <td>NaN</td>\n",
       "      <td>phillip.allen</td>\n",
       "    </tr>\n",
       "    <tr>\n",
       "      <th>6</th>\n",
       "      <td>NaN</td>\n",
       "      <td>phillip.allen</td>\n",
       "    </tr>\n",
       "    <tr>\n",
       "      <th>7</th>\n",
       "      <td>NaN</td>\n",
       "      <td>phillip.allen</td>\n",
       "    </tr>\n",
       "    <tr>\n",
       "      <th>8</th>\n",
       "      <td>NaN</td>\n",
       "      <td>phillip.allen</td>\n",
       "    </tr>\n",
       "    <tr>\n",
       "      <th>9</th>\n",
       "      <td>NaN</td>\n",
       "      <td>phillip.allen</td>\n",
       "    </tr>\n",
       "  </tbody>\n",
       "</table>\n",
       "</div>"
      ],
      "text/plain": [
       "             From             To\n",
       "0  heather.dunton  phillip.allen\n",
       "1             NaN  phillip.allen\n",
       "2             NaN  phillip.allen\n",
       "3             NaN  phillip.allen\n",
       "4  louise.kitchen  phillip.allen\n",
       "5             NaN  phillip.allen\n",
       "6             NaN  phillip.allen\n",
       "7             NaN  phillip.allen\n",
       "8             NaN  phillip.allen\n",
       "9             NaN  phillip.allen"
      ]
     },
     "metadata": {},
     "output_type": "display_data"
    }
   ],
   "source": [
    "# Create a pandas Dataframe based on the list. Use pandas documentation if needed\n",
    "data = pd.DataFrame(sender_receiver_list, columns=['From', 'To'])\n",
    "\n",
    "# Display the first 10 records\n",
    "display(data.head(10))"
   ]
  },
  {
   "cell_type": "code",
   "execution_count": 107,
   "metadata": {
    "collapsed": false,
    "deletable": true,
    "editable": true
   },
   "outputs": [
    {
     "name": "stdout",
     "output_type": "stream",
     "text": [
      "Number of rows BEFORE droping NA records: 28987\n",
      "Number of rows AFTER droping NA records: 19536\n"
     ]
    },
    {
     "data": {
      "text/html": [
       "<div>\n",
       "<style scoped>\n",
       "    .dataframe tbody tr th:only-of-type {\n",
       "        vertical-align: middle;\n",
       "    }\n",
       "\n",
       "    .dataframe tbody tr th {\n",
       "        vertical-align: top;\n",
       "    }\n",
       "\n",
       "    .dataframe thead th {\n",
       "        text-align: right;\n",
       "    }\n",
       "</style>\n",
       "<table border=\"1\" class=\"dataframe\">\n",
       "  <thead>\n",
       "    <tr style=\"text-align: right;\">\n",
       "      <th></th>\n",
       "      <th>From</th>\n",
       "      <th>To</th>\n",
       "    </tr>\n",
       "  </thead>\n",
       "  <tbody>\n",
       "    <tr>\n",
       "      <th>0</th>\n",
       "      <td>heather.dunton</td>\n",
       "      <td>phillip.allen</td>\n",
       "    </tr>\n",
       "    <tr>\n",
       "      <th>4</th>\n",
       "      <td>louise.kitchen</td>\n",
       "      <td>phillip.allen</td>\n",
       "    </tr>\n",
       "    <tr>\n",
       "      <th>11</th>\n",
       "      <td>brad.jones</td>\n",
       "      <td>phillip.allen</td>\n",
       "    </tr>\n",
       "    <tr>\n",
       "      <th>17</th>\n",
       "      <td>renee.ratcliff</td>\n",
       "      <td>phillip.allen</td>\n",
       "    </tr>\n",
       "    <tr>\n",
       "      <th>22</th>\n",
       "      <td>david.port</td>\n",
       "      <td>phillip.allen</td>\n",
       "    </tr>\n",
       "    <tr>\n",
       "      <th>28</th>\n",
       "      <td>james.bruce</td>\n",
       "      <td>phillip.allen</td>\n",
       "    </tr>\n",
       "    <tr>\n",
       "      <th>30</th>\n",
       "      <td>kathryn.sheppard</td>\n",
       "      <td>phillip.allen</td>\n",
       "    </tr>\n",
       "    <tr>\n",
       "      <th>32</th>\n",
       "      <td>james.bruce</td>\n",
       "      <td>phillip.allen</td>\n",
       "    </tr>\n",
       "    <tr>\n",
       "      <th>33</th>\n",
       "      <td>c..gossett</td>\n",
       "      <td>phillip.allen</td>\n",
       "    </tr>\n",
       "    <tr>\n",
       "      <th>38</th>\n",
       "      <td>no.address</td>\n",
       "      <td>phillip.allen</td>\n",
       "    </tr>\n",
       "  </tbody>\n",
       "</table>\n",
       "</div>"
      ],
      "text/plain": [
       "                From             To\n",
       "0     heather.dunton  phillip.allen\n",
       "4     louise.kitchen  phillip.allen\n",
       "11        brad.jones  phillip.allen\n",
       "17    renee.ratcliff  phillip.allen\n",
       "22        david.port  phillip.allen\n",
       "28       james.bruce  phillip.allen\n",
       "30  kathryn.sheppard  phillip.allen\n",
       "32       james.bruce  phillip.allen\n",
       "33        c..gossett  phillip.allen\n",
       "38        no.address  phillip.allen"
      ]
     },
     "metadata": {},
     "output_type": "display_data"
    }
   ],
   "source": [
    "# Drop NaN records\n",
    "print('Number of rows BEFORE droping NA records:', data.shape[0])\n",
    "data.dropna(inplace=True)\n",
    "print('Number of rows AFTER droping NA records:', data.shape[0])\n",
    "\n",
    "# Display the fisrt 10 records\n",
    "display(data.head(10))"
   ]
  },
  {
   "cell_type": "markdown",
   "metadata": {
    "deletable": true,
    "editable": true
   },
   "source": [
    "Your Dataframe now contains pairs of 'to', 'from' for every exchanged email.\n",
    "\n",
    "You can see that some of these pairs are redundant meaning that two people can exchance multiple emails. In order to simplify our graph creation (we could use multigraphs but we rather not), we will add a frequency column to our Dataframe containing the number of exchanges of each pair.\n",
    "\n",
    "Note: Use groupby"
   ]
  },
  {
   "cell_type": "code",
   "execution_count": 108,
   "metadata": {
    "collapsed": false,
    "deletable": true,
    "editable": true,
    "scrolled": true
   },
   "outputs": [],
   "source": [
    "# Add Frequency column to your dataframe\n",
    "data = data.groupby(['From','To']).size().reset_index()\n",
    "data.rename(columns = {0: 'weight'}, inplace = True)"
   ]
  },
  {
   "cell_type": "code",
   "execution_count": 109,
   "metadata": {
    "collapsed": false,
    "deletable": true,
    "editable": true
   },
   "outputs": [
    {
     "name": "stdout",
     "output_type": "stream",
     "text": [
      "Number of rows after grouping and adding frequencies: 5993\n"
     ]
    },
    {
     "data": {
      "text/html": [
       "<div>\n",
       "<style scoped>\n",
       "    .dataframe tbody tr th:only-of-type {\n",
       "        vertical-align: middle;\n",
       "    }\n",
       "\n",
       "    .dataframe tbody tr th {\n",
       "        vertical-align: top;\n",
       "    }\n",
       "\n",
       "    .dataframe thead th {\n",
       "        text-align: right;\n",
       "    }\n",
       "</style>\n",
       "<table border=\"1\" class=\"dataframe\">\n",
       "  <thead>\n",
       "    <tr style=\"text-align: right;\">\n",
       "      <th></th>\n",
       "      <th>From</th>\n",
       "      <th>To</th>\n",
       "      <th>weight</th>\n",
       "    </tr>\n",
       "  </thead>\n",
       "  <tbody>\n",
       "    <tr>\n",
       "      <th>0</th>\n",
       "      <td>2.ews</td>\n",
       "      <td>mark.taylor</td>\n",
       "      <td>1</td>\n",
       "    </tr>\n",
       "    <tr>\n",
       "      <th>1</th>\n",
       "      <td>40ect</td>\n",
       "      <td>andrew.lewis</td>\n",
       "      <td>1</td>\n",
       "    </tr>\n",
       "    <tr>\n",
       "      <th>2</th>\n",
       "      <td>40ect</td>\n",
       "      <td>tom.donohoe</td>\n",
       "      <td>1</td>\n",
       "    </tr>\n",
       "    <tr>\n",
       "      <th>3</th>\n",
       "      <td>40ees</td>\n",
       "      <td>jeff.dasovich</td>\n",
       "      <td>2</td>\n",
       "    </tr>\n",
       "    <tr>\n",
       "      <th>4</th>\n",
       "      <td>40enron</td>\n",
       "      <td>andrew.lewis</td>\n",
       "      <td>10</td>\n",
       "    </tr>\n",
       "    <tr>\n",
       "      <th>5</th>\n",
       "      <td>40enron</td>\n",
       "      <td>andy.zipper</td>\n",
       "      <td>4</td>\n",
       "    </tr>\n",
       "    <tr>\n",
       "      <th>6</th>\n",
       "      <td>40enron</td>\n",
       "      <td>barry.tycholiz</td>\n",
       "      <td>18</td>\n",
       "    </tr>\n",
       "    <tr>\n",
       "      <th>7</th>\n",
       "      <td>40enron</td>\n",
       "      <td>benjamin.rogers</td>\n",
       "      <td>14</td>\n",
       "    </tr>\n",
       "    <tr>\n",
       "      <th>8</th>\n",
       "      <td>40enron</td>\n",
       "      <td>chris.germany</td>\n",
       "      <td>9</td>\n",
       "    </tr>\n",
       "    <tr>\n",
       "      <th>9</th>\n",
       "      <td>40enron</td>\n",
       "      <td>clint.dean</td>\n",
       "      <td>30</td>\n",
       "    </tr>\n",
       "  </tbody>\n",
       "</table>\n",
       "</div>"
      ],
      "text/plain": [
       "      From               To  weight\n",
       "0    2.ews      mark.taylor       1\n",
       "1    40ect     andrew.lewis       1\n",
       "2    40ect      tom.donohoe       1\n",
       "3    40ees    jeff.dasovich       2\n",
       "4  40enron     andrew.lewis      10\n",
       "5  40enron      andy.zipper       4\n",
       "6  40enron   barry.tycholiz      18\n",
       "7  40enron  benjamin.rogers      14\n",
       "8  40enron    chris.germany       9\n",
       "9  40enron       clint.dean      30"
      ]
     },
     "metadata": {},
     "output_type": "display_data"
    }
   ],
   "source": [
    "print('Number of rows after grouping and adding frequencies:', data.shape[0])\n",
    "display(data.head(10))"
   ]
  },
  {
   "cell_type": "markdown",
   "metadata": {
    "deletable": true,
    "editable": true
   },
   "source": [
    "***"
   ]
  },
  {
   "cell_type": "markdown",
   "metadata": {
    "deletable": true,
    "editable": true
   },
   "source": [
    "## 2. Creating your Network"
   ]
  },
  {
   "cell_type": "markdown",
   "metadata": {
    "deletable": true,
    "editable": true
   },
   "source": [
    "At this point, you have a Dataframe with 3 columns 'from', 'to' and 'frequency'\n",
    "\n",
    "We will now create our network based on the Dataframe. For a preliminary analysis, we will start with an undirected weighted network.\n",
    "\n",
    "Create a graph, using networkx functions, with frequency as the weight of your edges. "
   ]
  },
  {
   "cell_type": "markdown",
   "metadata": {
    "deletable": true,
    "editable": true
   },
   "source": [
    "### Creating the network"
   ]
  },
  {
   "cell_type": "code",
   "execution_count": 26,
   "metadata": {
    "collapsed": false,
    "deletable": true,
    "editable": true
   },
   "outputs": [],
   "source": [
    "# Create an undirected weighted graph using your Dataframe\n",
    "G = nx.from_pandas_dataframe(data, 'From', 'To', edge_attr='weight')"
   ]
  },
  {
   "cell_type": "markdown",
   "metadata": {
    "deletable": true,
    "editable": true
   },
   "source": [
    "Check the network that you just created and compare with your Dataframe. Display the Number of nodes and edges etc."
   ]
  },
  {
   "cell_type": "code",
   "execution_count": 27,
   "metadata": {
    "collapsed": false,
    "deletable": true,
    "editable": true
   },
   "outputs": [
    {
     "name": "stdout",
     "output_type": "stream",
     "text": [
      "<class 'pandas.core.frame.DataFrame'>\n",
      "RangeIndex: 5993 entries, 0 to 5992\n",
      "Data columns (total 3 columns):\n",
      "From      5993 non-null object\n",
      "To        5993 non-null object\n",
      "weight    5993 non-null int64\n",
      "dtypes: int64(1), object(2)\n",
      "memory usage: 140.5+ KB\n",
      "\n",
      "Number of nodes from DataFrame: 2650\n",
      "\n",
      "Number of nodes from Graph: 2650\n",
      "\n",
      "Number of edges from Graph: 5959\n"
     ]
    }
   ],
   "source": [
    "# Display metrics about your network\n",
    "\n",
    "# DataFrame stats for comparaison purposes\n",
    "data.info()\n",
    "\n",
    "# Calculate nodes from DataFrame to compare to Graph\n",
    "dfnodes = set()\n",
    "for row in data.itertuples():\n",
    "    dfnodes.add(row.From)\n",
    "    dfnodes.add(row.To)\n",
    "\n",
    "print(\"\\nNumber of nodes from DataFrame:\", len(dfnodes))\n",
    "print(\"\\nNumber of nodes from Graph:\", len(G.nodes()))\n",
    "print(\"\\nNumber of edges from Graph:\", len(G.edges()))"
   ]
  },
  {
   "cell_type": "markdown",
   "metadata": {
    "deletable": true,
    "editable": true
   },
   "source": [
    "***"
   ]
  },
  {
   "cell_type": "markdown",
   "metadata": {
    "deletable": true,
    "editable": true
   },
   "source": [
    "## 3. Analyzing your Network"
   ]
  },
  {
   "cell_type": "markdown",
   "metadata": {
    "deletable": true,
    "editable": true
   },
   "source": [
    "### Calculate network metrics"
   ]
  },
  {
   "cell_type": "markdown",
   "metadata": {
    "deletable": true,
    "editable": true
   },
   "source": [
    "Perform micro and macro Structural Network Analyses on your email graph.\n",
    "\n",
    "You can create a dataframe for your node-level metrics.\n",
    "Display the distribution of your metrics.\n",
    "\n",
    "We generally chart some of the metrics to get a better look at their values.\n",
    "\n",
    "Note: It is often a good idea to define functions to calculate your graph's metrics. This makes your code reusable for similar works.\n"
   ]
  },
  {
   "cell_type": "markdown",
   "metadata": {
    "collapsed": true,
    "deletable": true,
    "editable": true
   },
   "source": [
    "#### Macro-level analysis"
   ]
  },
  {
   "cell_type": "markdown",
   "metadata": {
    "deletable": true,
    "editable": true
   },
   "source": [
    "##### Connectivity"
   ]
  },
  {
   "cell_type": "code",
   "execution_count": 28,
   "metadata": {
    "collapsed": false,
    "deletable": true,
    "editable": true
   },
   "outputs": [
    {
     "name": "stdout",
     "output_type": "stream",
     "text": [
      "Network is connected\n"
     ]
    }
   ],
   "source": [
    "# Connectivity\n",
    "if not nx.is_connected(G):\n",
    "    print('Network is not connected.')\n",
    "    print('Number of connected components:', nx.number_connected_components(G))\n",
    "else:\n",
    "    print('Network is connected')"
   ]
  },
  {
   "cell_type": "markdown",
   "metadata": {
    "deletable": true,
    "editable": true
   },
   "source": [
    "##### Density"
   ]
  },
  {
   "cell_type": "code",
   "execution_count": 29,
   "metadata": {
    "collapsed": false,
    "deletable": true,
    "editable": true
   },
   "outputs": [
    {
     "name": "stdout",
     "output_type": "stream",
     "text": [
      "Density: 0.0017\n"
     ]
    }
   ],
   "source": [
    "# Density\n",
    "density = nx.density(G)\n",
    "print('Density:', round(density, 4))"
   ]
  },
  {
   "cell_type": "markdown",
   "metadata": {
    "deletable": true,
    "editable": true
   },
   "source": [
    "##### Average shortest path length"
   ]
  },
  {
   "cell_type": "code",
   "execution_count": 30,
   "metadata": {
    "collapsed": false,
    "deletable": true,
    "editable": true
   },
   "outputs": [
    {
     "name": "stdout",
     "output_type": "stream",
     "text": [
      "Average shortest path length: 3.5836\n"
     ]
    }
   ],
   "source": [
    "# Average shortest path length\n",
    "avg_spl = nx.average_shortest_path_length(G)\n",
    "print('Average shortest path length:', round(avg_spl, 4))"
   ]
  },
  {
   "cell_type": "markdown",
   "metadata": {
    "deletable": true,
    "editable": true
   },
   "source": [
    "##### Diameter"
   ]
  },
  {
   "cell_type": "code",
   "execution_count": 31,
   "metadata": {
    "collapsed": false,
    "deletable": true,
    "editable": true
   },
   "outputs": [
    {
     "name": "stdout",
     "output_type": "stream",
     "text": [
      "Diameter (longest shortest path length): 5\n"
     ]
    }
   ],
   "source": [
    "# Diameter (longest shortest path length)\n",
    "diameter = nx.diameter(G)\n",
    "print('Diameter (longest shortest path length):', diameter)"
   ]
  },
  {
   "cell_type": "markdown",
   "metadata": {
    "deletable": true,
    "editable": true
   },
   "source": [
    "##### Average clustering coeﬀicient"
   ]
  },
  {
   "cell_type": "code",
   "execution_count": 32,
   "metadata": {
    "collapsed": false,
    "deletable": true,
    "editable": true
   },
   "outputs": [
    {
     "name": "stdout",
     "output_type": "stream",
     "text": [
      "Watts–Strogatz network average clustering coeﬀicient: 0.0969\n"
     ]
    }
   ],
   "source": [
    "# Watts–Strogatz network average clustering coeﬀicient:\n",
    "clust_coef = nx.average_clustering(G)\n",
    "print('Watts–Strogatz network average clustering coeﬀicient:', round(clust_coef, 4))"
   ]
  },
  {
   "cell_type": "markdown",
   "metadata": {
    "deletable": true,
    "editable": true
   },
   "source": [
    "##### Degree distribution"
   ]
  },
  {
   "cell_type": "code",
   "execution_count": 48,
   "metadata": {
    "collapsed": false,
    "deletable": true,
    "editable": true
   },
   "outputs": [
    {
     "data": {
      "image/png": "[encoded data removed]",
      "text/plain": [
       "<matplotlib.figure.Figure at 0x1ef4a7a4a90>"
      ]
     },
     "metadata": {},
     "output_type": "display_data"
    }
   ],
   "source": [
    "# Degree frequency histogram (50 degrees)\n",
    "degree_hist = nx.degree_histogram(G)\n",
    "bet = pd.DataFrame(dict(degree=range(50), frequency=degree_hist[:50]))\n",
    "plt.figure(figsize=(15, 7))\n",
    "deg_hist = sns.barplot(\"degree\", \"frequency\", data=bet)\n",
    "_ = plt.xlabel('Degree')\n",
    "_ = plt.ylabel('Frequency')\n",
    "_ = plt.title('Degree Frequency for up to 50 in the Enron Email Network')\n",
    "for _, row in bet.iterrows():\n",
    "    row = list(dict(row).values())\n",
    "    deg_hist.text(row[0],row[1]+10, row[1], color='black', ha=\"center\")\n",
    "plt.show()"
   ]
  },
  {
   "cell_type": "markdown",
   "metadata": {
    "deletable": true,
    "editable": true
   },
   "source": [
    "##### Assortativity"
   ]
  },
  {
   "cell_type": "code",
   "execution_count": 41,
   "metadata": {
    "collapsed": false,
    "deletable": true,
    "editable": true
   },
   "outputs": [
    {
     "name": "stdout",
     "output_type": "stream",
     "text": [
      "Assortativity value: -0.54\n",
      "Network is somewhat disassortative\n"
     ]
    }
   ],
   "source": [
    "# Assortativity\n",
    "assortativity = nx.degree_assortativity_coefficient(G)\n",
    "print('Assortativity value:', round(assortativity, 2))\n",
    "print('Network is strongly assortative') if assortativity >= 0.6 else (\n",
    "    print('Network is somewhat assortative')\n",
    "    if assortativity >= 0.2 else (print('Network is non assortative')\n",
    "                                  if assortativity >= -0.2 else\n",
    "                                  (print('Network is somewhat disassortative')\n",
    "                                   if assortativity >= -0.6 else\n",
    "                                   print('Network is strongly disassortative'))))"
   ]
  },
  {
   "cell_type": "markdown",
   "metadata": {
    "collapsed": true,
    "deletable": true,
    "editable": true
   },
   "source": [
    "#### Mirco-level analysis"
   ]
  },
  {
   "cell_type": "markdown",
   "metadata": {
    "deletable": true,
    "editable": true
   },
   "source": [
    "##### Degree centrality"
   ]
  },
  {
   "cell_type": "code",
   "execution_count": 62,
   "metadata": {
    "collapsed": false,
    "deletable": true,
    "editable": true
   },
   "outputs": [
    {
     "data": {
      "image/png": "[encoded data removed]",
      "text/plain": [
       "<matplotlib.figure.Figure at 0x1ef4b50d828>"
      ]
     },
     "metadata": {},
     "output_type": "display_data"
    }
   ],
   "source": [
    "# Degree centrality\n",
    "central = nx.degree_centrality(G)\n",
    "name = []\n",
    "centrality = []\n",
    "\n",
    "for key, value in central.items():\n",
    "    name.append(key)\n",
    "    centrality.append(value)\n",
    "\n",
    "cent = pd.DataFrame()    \n",
    "cent['name'] = name\n",
    "cent['centrality'] = centrality\n",
    "cent = cent.sort_values(by='centrality', ascending=False)\n",
    "\n",
    "plt.figure(figsize=(10, 7))\n",
    "_ = sns.barplot(x='centrality', y='name', data=cent[:15], orient='h', palette='Blues_d')\n",
    "_ = plt.xlabel('Degree Centrality')\n",
    "_ = plt.ylabel('Correspondent')\n",
    "_ = plt.title('Top 15 Degree Centrality Scores in Enron Email Network')\n",
    "plt.show()"
   ]
  },
  {
   "cell_type": "markdown",
   "metadata": {
    "deletable": true,
    "editable": true
   },
   "source": [
    "##### Betweenness centrality"
   ]
  },
  {
   "cell_type": "code",
   "execution_count": 43,
   "metadata": {
    "collapsed": false,
    "deletable": true,
    "editable": true
   },
   "outputs": [
    {
     "data": {
      "image/png": "[encoded data removed]",
      "text/plain": [
       "<matplotlib.figure.Figure at 0x1ef49e81630>"
      ]
     },
     "metadata": {},
     "output_type": "display_data"
    }
   ],
   "source": [
    "# Betweenness centrality\n",
    "between = nx.betweenness_centrality(G)\n",
    "name = []\n",
    "betweenness = []\n",
    "\n",
    "for key, value in between.items():\n",
    "    name.append(key)\n",
    "    betweenness.append(value)\n",
    "\n",
    "bet = pd.DataFrame()\n",
    "bet['name'] = name\n",
    "bet['betweenness'] = betweenness\n",
    "bet = bet.sort_values(by='betweenness', ascending=False)\n",
    "\n",
    "\n",
    "plt.figure(figsize=(10, 7))\n",
    "_ = sns.barplot(x='betweenness', y='name', data=bet[:15], orient='h', palette='Reds_d')\n",
    "_ = plt.xlabel('Betweenness Centrality')\n",
    "_ = plt.ylabel('Correspondent')\n",
    "_ = plt.title('Top 15 Betweenness Centrality Scores in Enron Email Network')\n",
    "plt.show()"
   ]
  },
  {
   "cell_type": "markdown",
   "metadata": {
    "deletable": true,
    "editable": true
   },
   "source": [
    "##### Closeness centrality"
   ]
  },
  {
   "cell_type": "code",
   "execution_count": 44,
   "metadata": {
    "collapsed": false,
    "deletable": true,
    "editable": true
   },
   "outputs": [
    {
     "data": {
      "image/png": "[encoded data removed]",
      "text/plain": [
       "<matplotlib.figure.Figure at 0x1ef4a79d860>"
      ]
     },
     "metadata": {},
     "output_type": "display_data"
    }
   ],
   "source": [
    "# Closeness centrality\n",
    "close = nx.closeness_centrality(G)\n",
    "name = []\n",
    "closeness = []\n",
    "\n",
    "for key, value in close.items():\n",
    "    name.append(key)\n",
    "    closeness.append(value)\n",
    "\n",
    "bet = pd.DataFrame()\n",
    "bet['name'] = name\n",
    "bet['closeness'] = closeness\n",
    "bet = bet.sort_values(by='closeness', ascending=False)\n",
    "\n",
    "plt.figure(figsize=(10, 7))\n",
    "_ = sns.barplot(x='closeness', y='name', data=bet[:15], orient='h', palette='Greens_d')\n",
    "_ = plt.xlabel('Closeness Centrality')\n",
    "_ = plt.ylabel('Correspondent')\n",
    "_ = plt.title('Top 15 Closeness Centrality Scores in Enron Email Network')\n",
    "plt.show()"
   ]
  },
  {
   "cell_type": "markdown",
   "metadata": {
    "deletable": true,
    "editable": true
   },
   "source": [
    "##### Eigenvector centrality"
   ]
  },
  {
   "cell_type": "code",
   "execution_count": 45,
   "metadata": {
    "collapsed": false,
    "deletable": true,
    "editable": true
   },
   "outputs": [
    {
     "data": {
      "image/png": "[encoded data removed]",
      "text/plain": [
       "<matplotlib.figure.Figure at 0x1ef4a7e4b00>"
      ]
     },
     "metadata": {},
     "output_type": "display_data"
    }
   ],
   "source": [
    "# Eigenvector centrality\n",
    "eigen = nx.eigenvector_centrality(G)\n",
    "name = []\n",
    "eigenvector = []\n",
    "\n",
    "for key, value in eigen.items():\n",
    "    name.append(key)\n",
    "    eigenvector.append(value)\n",
    "\n",
    "bet = pd.DataFrame()\n",
    "bet['name'] = name\n",
    "bet['eigenvector'] = eigenvector\n",
    "bet = bet.sort_values(by='eigenvector', ascending=False)\n",
    "\n",
    "plt.figure(figsize=(10, 7))\n",
    "_ = sns.barplot(x='eigenvector', y='name', data=bet[:15], orient='h', palette='Purples_d')\n",
    "_ = plt.xlabel('Eigenvector Centrality')\n",
    "_ = plt.ylabel('Correspondent')\n",
    "_ = plt.title('Top 15 Eigenvector Centrality Scores in Enron Email Network')\n",
    "plt.show()"
   ]
  },
  {
   "cell_type": "markdown",
   "metadata": {
    "deletable": true,
    "editable": true
   },
   "source": [
    "##### Local clustering coeffecient"
   ]
  },
  {
   "cell_type": "code",
   "execution_count": 46,
   "metadata": {
    "collapsed": false,
    "deletable": true,
    "editable": true
   },
   "outputs": [
    {
     "data": {
      "image/png": "[encoded data removed]",
      "text/plain": [
       "<matplotlib.figure.Figure at 0x1ef4a8a3668>"
      ]
     },
     "metadata": {},
     "output_type": "display_data"
    }
   ],
   "source": [
    "# Local clustering coeffecient\n",
    "clust = nx.clustering(G)\n",
    "clustering = []\n",
    "\n",
    "for value in clust.values():\n",
    "    clustering.append(value)\n",
    "\n",
    "clustering.sort()\n",
    "\n",
    "plt.figure(figsize=(15, 7))\n",
    "# sns.set_style(\"darkgrid\")\n",
    "plt.plot(clustering)\n",
    "plt.xlabel('Correspondent')\n",
    "plt.ylabel('Clustering Centrality')\n",
    "plt.title('Clustering Centrality Change in Enron Email Network')\n",
    "plt.show()"
   ]
  },
  {
   "cell_type": "markdown",
   "metadata": {
    "deletable": true,
    "editable": true
   },
   "source": [
    "#### Meso-level analysis"
   ]
  },
  {
   "cell_type": "markdown",
   "metadata": {
    "deletable": true,
    "editable": true
   },
   "source": [
    "##### Community detection"
   ]
  },
  {
   "cell_type": "code",
   "execution_count": 78,
   "metadata": {
    "collapsed": false,
    "deletable": true,
    "editable": true
   },
   "outputs": [
    {
     "data": {
      "image/png": "[encoded data removed]",
      "text/plain": [
       "<matplotlib.figure.Figure at 0x1ef4c927e80>"
      ]
     },
     "metadata": {},
     "output_type": "display_data"
    }
   ],
   "source": [
    "# Community detection based on best partition\n",
    "com = community.best_partition(G)\n",
    "\n",
    "# Count communities members\n",
    "communities = Counter(list(com.values()))\n",
    "communities = dict(communities.items())\n",
    "bet = pd.DataFrame()\n",
    "bet['community'] = list(map(lambda x: 'c'+str(x), list(communities.keys())))\n",
    "bet['frequency'] = sorted(list(communities.values()), reverse=True)\n",
    "\n",
    "# Plot Community Distribution\n",
    "plt.figure(figsize=(15, 7))\n",
    "com_g = sns.barplot(x='community', y='frequency', data=bet, orient='v', palette=\"Oranges_d\")\n",
    "_ = plt.xlabel('Community')\n",
    "_ = plt.ylabel('Number of correspondants')\n",
    "_ = plt.title('Community Distribution Based on Best Partition in Enron Email network')\n",
    "for index, row in bet.iterrows():\n",
    "    row = list(dict(row).values())\n",
    "    row[0] = index\n",
    "    com_g.text(row[0],row[1]+10, row[1], color='black', ha=\"center\")\n",
    "\n",
    "plt.show()"
   ]
  },
  {
   "cell_type": "markdown",
   "metadata": {
    "deletable": true,
    "editable": true
   },
   "source": [
    "### Draw the network"
   ]
  },
  {
   "cell_type": "markdown",
   "metadata": {
    "deletable": true,
    "editable": true
   },
   "source": [
    "In order to get a bird view of the network, we often visualize it using draw functions. Draw your network and choose the best layout to enhance the visualization.   \n",
    "\n",
    "Networkx offers the possibility of drawing your Graph, but you can choose other libraries (You can even use D3 for interactive visualization).  \n",
    "\n",
    "You can read the associated documentation or visit their gallery to go further. "
   ]
  },
  {
   "cell_type": "markdown",
   "metadata": {
    "deletable": true,
    "editable": true
   },
   "source": [
    "<hr>"
   ]
  },
  {
   "cell_type": "markdown",
   "metadata": {
    "deletable": true,
    "editable": true
   },
   "source": [
    "#### Visualization tool"
   ]
  },
  {
   "cell_type": "markdown",
   "metadata": {
    "deletable": true,
    "editable": true
   },
   "source": [
    "- Visualizing the network using `networkx`'s standard visualization tool results in an ugly unreadable hairball. Tweaking the parameters and playing with the layout doesn't change much.\n",
    "\n",
    "- We will instead use `Gephi` since it offers more flexibility.\n",
    "\n",
    "- We will use the `GephiStreaming` `python` package to stream the commands from the python interpreter (in a separate command line since `Jupyter Notebook` is not supported)."
   ]
  },
  {
   "cell_type": "markdown",
   "metadata": {
    "deletable": true,
    "editable": true
   },
   "source": [
    "<hr>"
   ]
  },
  {
   "cell_type": "markdown",
   "metadata": {
    "deletable": true,
    "editable": true
   },
   "source": [
    "Throughout the visualization process, we use a gravity layout and color the nodes with regards to their modularity class obtained in the community detection stage. As for nodes scaling, we envisage different metrics:"
   ]
  },
  {
   "cell_type": "markdown",
   "metadata": {
    "deletable": true,
    "editable": true
   },
   "source": [
    "###### Degree"
   ]
  },
  {
   "cell_type": "markdown",
   "metadata": {
    "deletable": true,
    "editable": true
   },
   "source": [
    "We scale Nodes by degree centrality to emphasis the number of emails per individual."
   ]
  },
  {
   "cell_type": "markdown",
   "metadata": {
    "deletable": true,
    "editable": true
   },
   "source": [
    "<img src=\"svg/final/degr.svg\" />"
   ]
  },
  {
   "cell_type": "markdown",
   "metadata": {
    "deletable": true,
    "editable": true
   },
   "source": [
    "##### Betweenness"
   ]
  },
  {
   "cell_type": "markdown",
   "metadata": {
    "deletable": true,
    "editable": true
   },
   "source": [
    "We do the same for betweenness centrality to emphasis the most central nodes in the Enron network."
   ]
  },
  {
   "cell_type": "markdown",
   "metadata": {
    "deletable": true,
    "editable": true
   },
   "source": [
    "<img src=\"svg/final/betr.svg\" />"
   ]
  },
  {
   "cell_type": "markdown",
   "metadata": {
    "deletable": true,
    "editable": true
   },
   "source": [
    "###### Closeness"
   ]
  },
  {
   "cell_type": "markdown",
   "metadata": {
    "deletable": true,
    "editable": true
   },
   "source": [
    "Finally, we scale by closeness centrality to accentuate the nodes that are more influential and have better access to information within the network."
   ]
  },
  {
   "cell_type": "markdown",
   "metadata": {
    "deletable": true,
    "editable": true
   },
   "source": [
    "<img src=\"svg/final/clor.svg\" />"
   ]
  },
  {
   "cell_type": "markdown",
   "metadata": {
    "deletable": true,
    "editable": true
   },
   "source": [
    "###### Extra"
   ]
  },
  {
   "cell_type": "markdown",
   "metadata": {
    "deletable": true,
    "editable": true
   },
   "source": [
    "Circular layout (nodes scaled by betweenness):"
   ]
  },
  {
   "cell_type": "markdown",
   "metadata": {
    "deletable": true,
    "editable": true
   },
   "source": [
    "<img src=\"svg/circular_layout/circbet.svg\" />"
   ]
  },
  {
   "cell_type": "markdown",
   "metadata": {
    "deletable": true,
    "editable": true
   },
   "source": [
    "<b style=\"font-size=200%\">NB:</b> More visualizations are available in the svg folder."
   ]
  },
  {
   "cell_type": "markdown",
   "metadata": {
    "deletable": true,
    "editable": true
   },
   "source": [
    "### Save the network"
   ]
  },
  {
   "cell_type": "markdown",
   "metadata": {
    "deletable": true,
    "editable": true
   },
   "source": [
    "Save the resulting network in a 'gexf' file format. \n",
    "Save your metrics in a .csv file."
   ]
  },
  {
   "cell_type": "code",
   "execution_count": 50,
   "metadata": {
    "collapsed": true,
    "deletable": true,
    "editable": true
   },
   "outputs": [],
   "source": [
    "# Save network to gexf\n",
    "nx.write_gexf(G, 'enron_network.gexf')"
   ]
  },
  {
   "cell_type": "code",
   "execution_count": 102,
   "metadata": {
    "collapsed": false,
    "deletable": true,
    "editable": true
   },
   "outputs": [
    {
     "data": {
      "text/html": [
       "<div>\n",
       "<style scoped>\n",
       "    .dataframe tbody tr th:only-of-type {\n",
       "        vertical-align: middle;\n",
       "    }\n",
       "\n",
       "    .dataframe tbody tr th {\n",
       "        vertical-align: top;\n",
       "    }\n",
       "\n",
       "    .dataframe thead th {\n",
       "        text-align: right;\n",
       "    }\n",
       "</style>\n",
       "<table border=\"1\" class=\"dataframe\">\n",
       "  <thead>\n",
       "    <tr style=\"text-align: right;\">\n",
       "      <th></th>\n",
       "      <th>node</th>\n",
       "      <th>degree_cent</th>\n",
       "      <th>betweenness_cent</th>\n",
       "      <th>closeness_cent</th>\n",
       "      <th>eigenvector_cent</th>\n",
       "      <th>clustering_coeff</th>\n",
       "      <th>modularity_class</th>\n",
       "    </tr>\n",
       "  </thead>\n",
       "  <tbody>\n",
       "    <tr>\n",
       "      <th>0</th>\n",
       "      <td>2.ews</td>\n",
       "      <td>0.000378</td>\n",
       "      <td>0.000000</td>\n",
       "      <td>0.263661</td>\n",
       "      <td>0.003691</td>\n",
       "      <td>0.000000</td>\n",
       "      <td>0</td>\n",
       "    </tr>\n",
       "    <tr>\n",
       "      <th>1</th>\n",
       "      <td>40ect</td>\n",
       "      <td>0.000755</td>\n",
       "      <td>0.000004</td>\n",
       "      <td>0.272727</td>\n",
       "      <td>0.004864</td>\n",
       "      <td>0.000000</td>\n",
       "      <td>1</td>\n",
       "    </tr>\n",
       "    <tr>\n",
       "      <th>2</th>\n",
       "      <td>40ees</td>\n",
       "      <td>0.000378</td>\n",
       "      <td>0.000000</td>\n",
       "      <td>0.267603</td>\n",
       "      <td>0.002102</td>\n",
       "      <td>0.000000</td>\n",
       "      <td>2</td>\n",
       "    </tr>\n",
       "    <tr>\n",
       "      <th>3</th>\n",
       "      <td>40enron</td>\n",
       "      <td>0.015855</td>\n",
       "      <td>0.051022</td>\n",
       "      <td>0.462304</td>\n",
       "      <td>0.126151</td>\n",
       "      <td>0.062718</td>\n",
       "      <td>1</td>\n",
       "    </tr>\n",
       "    <tr>\n",
       "      <th>4</th>\n",
       "      <td>Andrea.Ring</td>\n",
       "      <td>0.000378</td>\n",
       "      <td>0.000000</td>\n",
       "      <td>0.255596</td>\n",
       "      <td>0.001581</td>\n",
       "      <td>0.000000</td>\n",
       "      <td>3</td>\n",
       "    </tr>\n",
       "    <tr>\n",
       "      <th>5</th>\n",
       "      <td>Andy.Zipper</td>\n",
       "      <td>0.000378</td>\n",
       "      <td>0.000000</td>\n",
       "      <td>0.268036</td>\n",
       "      <td>0.003242</td>\n",
       "      <td>0.000000</td>\n",
       "      <td>3</td>\n",
       "    </tr>\n",
       "    <tr>\n",
       "      <th>6</th>\n",
       "      <td>Cheryl.Nelson</td>\n",
       "      <td>0.000378</td>\n",
       "      <td>0.000000</td>\n",
       "      <td>0.269071</td>\n",
       "      <td>0.004739</td>\n",
       "      <td>0.000000</td>\n",
       "      <td>0</td>\n",
       "    </tr>\n",
       "    <tr>\n",
       "      <th>7</th>\n",
       "      <td>Chris.Germany</td>\n",
       "      <td>0.000378</td>\n",
       "      <td>0.000000</td>\n",
       "      <td>0.262173</td>\n",
       "      <td>0.002670</td>\n",
       "      <td>0.000000</td>\n",
       "      <td>3</td>\n",
       "    </tr>\n",
       "    <tr>\n",
       "      <th>8</th>\n",
       "      <td>Clint.Dean</td>\n",
       "      <td>0.000378</td>\n",
       "      <td>0.000000</td>\n",
       "      <td>0.257409</td>\n",
       "      <td>0.002283</td>\n",
       "      <td>0.000000</td>\n",
       "      <td>5</td>\n",
       "    </tr>\n",
       "    <tr>\n",
       "      <th>9</th>\n",
       "      <td>Darron.C.Giron</td>\n",
       "      <td>0.000378</td>\n",
       "      <td>0.000000</td>\n",
       "      <td>0.255967</td>\n",
       "      <td>0.002695</td>\n",
       "      <td>0.000000</td>\n",
       "      <td>3</td>\n",
       "    </tr>\n",
       "  </tbody>\n",
       "</table>\n",
       "</div>"
      ],
      "text/plain": [
       "             node  degree_cent  betweenness_cent  closeness_cent  \\\n",
       "0           2.ews     0.000378          0.000000        0.263661   \n",
       "1           40ect     0.000755          0.000004        0.272727   \n",
       "2           40ees     0.000378          0.000000        0.267603   \n",
       "3         40enron     0.015855          0.051022        0.462304   \n",
       "4     Andrea.Ring     0.000378          0.000000        0.255596   \n",
       "5     Andy.Zipper     0.000378          0.000000        0.268036   \n",
       "6   Cheryl.Nelson     0.000378          0.000000        0.269071   \n",
       "7   Chris.Germany     0.000378          0.000000        0.262173   \n",
       "8      Clint.Dean     0.000378          0.000000        0.257409   \n",
       "9  Darron.C.Giron     0.000378          0.000000        0.255967   \n",
       "\n",
       "   eigenvector_cent  clustering_coeff  modularity_class  \n",
       "0          0.003691          0.000000                 0  \n",
       "1          0.004864          0.000000                 1  \n",
       "2          0.002102          0.000000                 2  \n",
       "3          0.126151          0.062718                 1  \n",
       "4          0.001581          0.000000                 3  \n",
       "5          0.003242          0.000000                 3  \n",
       "6          0.004739          0.000000                 0  \n",
       "7          0.002670          0.000000                 3  \n",
       "8          0.002283          0.000000                 5  \n",
       "9          0.002695          0.000000                 3  "
      ]
     },
     "metadata": {},
     "output_type": "display_data"
    }
   ],
   "source": [
    "# Save micro & meso metrics to csv\n",
    "'''\n",
    "CSV file format (headers):\n",
    "node, degree_centrality, betweenness_centrality, closeness_centrality,\n",
    "    eigenvector_centrality, local_clustering_coefficient, modularity_class\n",
    "'''\n",
    "\n",
    "# 1. construct a pandas DataFrame:\n",
    "micro_metrics = pd.DataFrame()\n",
    "'''we sort all dictionaries before accessing the matrics to ensure we get the right value for each node'''\n",
    "micro_metrics['node'] = list((dict(sorted(central.items()))).keys())\n",
    "micro_metrics['degree_cent'] = list(\n",
    "    (dict(sorted(central.items()))).values())\n",
    "micro_metrics['betweenness_cent'] = list(\n",
    "    (dict(sorted(between.items()))).values())\n",
    "micro_metrics['closeness_cent'] = list(\n",
    "    (dict(sorted(close.items()))).values())\n",
    "micro_metrics['eigenvector_cent'] = list(\n",
    "    (dict(sorted(eigen.items()))).values())\n",
    "micro_metrics['clustering_coeff'] = list((dict(\n",
    "    sorted(clust.items()))).values())\n",
    "micro_metrics['modularity_class'] = list((dict(sorted(com.items()))).values())\n",
    "\n",
    "# 2. display the DataFrame:\n",
    "display(micro_metrics.head(10))\n",
    "\n",
    "# 3. save to CSV:\n",
    "micro_header = [\n",
    "    'node',\n",
    "    'degree_centrality',\n",
    "    'betweenness_centrality',\n",
    "    'closeness_centrality',\n",
    "    'eigenvector_centrality',\n",
    "    'local_clustering_coefficient',\n",
    "    'modularity_class'\n",
    "]\n",
    "micro_metrics.to_csv('enron_micro_metrics.csv', index=False, header=micro_header)"
   ]
  },
  {
   "cell_type": "code",
   "execution_count": 103,
   "metadata": {
    "collapsed": false,
    "deletable": true,
    "editable": true
   },
   "outputs": [
    {
     "data": {
      "text/html": [
       "<div>\n",
       "<style scoped>\n",
       "    .dataframe tbody tr th:only-of-type {\n",
       "        vertical-align: middle;\n",
       "    }\n",
       "\n",
       "    .dataframe tbody tr th {\n",
       "        vertical-align: top;\n",
       "    }\n",
       "\n",
       "    .dataframe thead th {\n",
       "        text-align: right;\n",
       "    }\n",
       "</style>\n",
       "<table border=\"1\" class=\"dataframe\">\n",
       "  <thead>\n",
       "    <tr style=\"text-align: right;\">\n",
       "      <th></th>\n",
       "      <th>density</th>\n",
       "      <th>shortest_path</th>\n",
       "      <th>diameter</th>\n",
       "      <th>clustering_coeff</th>\n",
       "      <th>assortativity</th>\n",
       "    </tr>\n",
       "  </thead>\n",
       "  <tbody>\n",
       "    <tr>\n",
       "      <th>0</th>\n",
       "      <td>0.001701</td>\n",
       "      <td>3.583623</td>\n",
       "      <td>5</td>\n",
       "      <td>0.096902</td>\n",
       "      <td>-0.544078</td>\n",
       "    </tr>\n",
       "  </tbody>\n",
       "</table>\n",
       "</div>"
      ],
      "text/plain": [
       "    density  shortest_path  diameter  clustering_coeff  assortativity\n",
       "0  0.001701       3.583623         5          0.096902      -0.544078"
      ]
     },
     "metadata": {},
     "output_type": "display_data"
    }
   ],
   "source": [
    "# Save macro metrics to csv\n",
    "'''\n",
    "CSV file format (headers):\n",
    "density, average_shortest_path, diameter, average_clustering_coeﬀicient, assortativity\n",
    "'''\n",
    "\n",
    "# 1. construct a pandas DataFrame:\n",
    "macro_metrics = pd.DataFrame()\n",
    "macro_metrics['density'] = [density]\n",
    "macro_metrics['shortest_path'] = [avg_spl]\n",
    "macro_metrics['diameter'] = [diameter]\n",
    "macro_metrics['clustering_coeff'] = [clust_coef]\n",
    "macro_metrics['assortativity'] = [assortativity]\n",
    "\n",
    "# 2. display the DataFrame:\n",
    "display(macro_metrics)\n",
    "\n",
    "# 3. save to CSV:\n",
    "macro_header = ['density', 'average_shortest_path', 'diameter', 'average_clustering_coeﬀicient', 'assortativity']\n",
    "macro_metrics.to_csv('enron_macro_metrics.csv', index=False, header=macro_header)"
   ]
  },
  {
   "cell_type": "markdown",
   "metadata": {
    "deletable": true,
    "editable": true
   },
   "source": [
    "End of assignment."
   ]
  }
 ],
 "metadata": {
  "kernelspec": {
   "display_name": "Python 3",
   "language": "python",
   "name": "python3"
  },
  "language_info": {
   "codemirror_mode": {
    "name": "ipython",
    "version": 3
   },
   "file_extension": ".py",
   "mimetype": "text/x-python",
   "name": "python",
   "nbconvert_exporter": "python",
   "pygments_lexer": "ipython3",
   "version": "3.6.0"
  },
  "latex_envs": {
   "LaTeX_envs_menu_present": true,
   "autoclose": true,
   "autocomplete": true,
   "bibliofile": "biblio.bib",
   "cite_by": "apalike",
   "current_citInitial": 1,
   "eqLabelWithNumbers": true,
   "eqNumInitial": 1,
   "hotkeys": {
    "equation": "Ctrl-E",
    "itemize": "Ctrl-I"
   },
   "labels_anchors": false,
   "latex_user_defs": false,
   "report_style_numbering": false,
   "user_envs_cfg": false
  },
  "varInspector": {
   "cols": {
    "lenName": 16,
    "lenType": 16,
    "lenVar": 40
   },
   "kernels_config": {
    "python": {
     "delete_cmd_postfix": "",
     "delete_cmd_prefix": "del ",
     "library": "var_list.py",
     "varRefreshCmd": "print(var_dic_list())"
    },
    "r": {
     "delete_cmd_postfix": ") ",
     "delete_cmd_prefix": "rm(",
     "library": "var_list.r",
     "varRefreshCmd": "cat(var_dic_list()) "
    }
   },
   "types_to_exclude": [
    "module",
    "function",
    "builtin_function_or_method",
    "instance",
    "_Feature"
   ],
   "window_display": false
  }
 },
 "nbformat": 4,
 "nbformat_minor": 2
}
